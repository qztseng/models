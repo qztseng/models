{
 "cells": [
  {
   "cell_type": "code",
   "execution_count": 1,
   "metadata": {},
   "outputs": [
    {
     "name": "stdout",
     "output_type": "stream",
     "text": [
      "1.12.3\n"
     ]
    }
   ],
   "source": [
    "# import os\n",
    "# from io import BytesIO\n",
    "# import tarfile\n",
    "# import tempfile\n",
    "# from six.moves import urllib\n",
    "\n",
    "# from matplotlib import gridspec\n",
    "from matplotlib import pyplot as plt\n",
    "import numpy as np\n",
    "# from PIL import Image\n",
    "\n",
    "import tensorflow as tf\n",
    "print(tf.__version__)\n",
    "\n",
    "from deeplab.core import resnet_v1_beta\n",
    "from deeplab.core import feature_extractor\n",
    "from deeplab import common\n",
    "from deeplab import model\n",
    "\n",
    "from deeplab.core import utils\n",
    "from deeplab.core import conv2d_ws\n",
    "# from tensorflow.contrib.slim.nets import resnet_utils\n",
    "import functools\n",
    "from tensorflow.contrib import slim as contrib_slim  ## this is the tf-slim (contrib.slim)\n",
    "slim = contrib_slim\n",
    "from slim.nets import resnet_utils  ## the is the slim image classification library from model/research/slim\n",
    "\n",
    "from lib import dataloader\n",
    "\n",
    "%load_ext autoreload\n",
    "%autoreload 2\n",
    "\n",
    "flags = tf.app.flags\n",
    "FLAGS = flags.FLAGS\n",
    "flags.DEFINE_string('f', '', 'kernel')"
   ]
  },
  {
   "cell_type": "markdown",
   "metadata": {},
   "source": [
    "## set parameters"
   ]
  },
  {
   "cell_type": "code",
   "execution_count": 2,
   "metadata": {},
   "outputs": [],
   "source": [
    "crop_size = [256, 256]\n",
    "outputs_to_num_classes = {'semantic': 3}\n",
    "\n",
    "model_options = common.ModelOptions(\n",
    "    outputs_to_num_classes,\n",
    "    crop_size,\n",
    "    output_stride=8\n",
    ")._replace(\n",
    "    add_image_level_feature=True,\n",
    "    aspp_with_batch_norm=True,\n",
    "    aspp_with_separable_conv=False,\n",
    "    decoder_use_separable_conv=False,\n",
    "    logits_kernel_size=1,\n",
    "    decoder_output_stride=[4,2],\n",
    "    multi_grid=[1,2],\n",
    "    atrous_rates=[2,4,6],\n",
    "    model_variant='resnet_mod') "
   ]
  },
  {
   "cell_type": "code",
   "execution_count": 3,
   "metadata": {},
   "outputs": [
    {
     "name": "stdout",
     "output_type": "stream",
     "text": [
      "(4, 256, 256, 1)\n",
      "(4, 128, 128, 2)\n"
     ]
    }
   ],
   "source": [
    "# imgs = np.random.uniform(size=(4, crop_size[0], crop_size[1], 1))\n",
    "imgs = tf.random_uniform((4, crop_size[0], crop_size[1], 1))\n",
    "print(imgs.shape)\n",
    "\n",
    "outputs_to_scales_to_logits = model.multi_scale_logits(\n",
    "      imgs,\n",
    "      model_options=model_options,\n",
    "      image_pyramid=None,\n",
    "      weight_decay=0.0001,\n",
    "      is_training=True,\n",
    "      fine_tune_batch_norm=True)\n",
    "print(outputs_to_scales_to_logits['semantic']['merged_logits'].shape)"
   ]
  },
  {
   "cell_type": "code",
   "execution_count": null,
   "metadata": {},
   "outputs": [],
   "source": []
  }
 ],
 "metadata": {
  "kernelspec": {
   "display_name": "Python 3",
   "language": "python",
   "name": "python3"
  },
  "language_info": {
   "codemirror_mode": {
    "name": "ipython",
    "version": 3
   },
   "file_extension": ".py",
   "mimetype": "text/x-python",
   "name": "python",
   "nbconvert_exporter": "python",
   "pygments_lexer": "ipython3",
   "version": "3.7.7"
  }
 },
 "nbformat": 4,
 "nbformat_minor": 4
}
